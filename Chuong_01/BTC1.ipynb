{
 "cells": [
  {
   "cell_type": "code",
   "execution_count": 4,
   "id": "80abbc97",
   "metadata": {},
   "outputs": [
    {
     "name": "stdout",
     "output_type": "stream",
     "text": [
      "Chiều dài: 5.0, Chiều rộng: 3.0, Chu vi: 16.00, Diện tích: 15.00\n"
     ]
    }
   ],
   "source": [
    "class HCN:\n",
    "    def __init__(self, dai: float = 5, rong: float = 3):\n",
    "        self.dai = float(dai)\n",
    "        self.rong = float(rong)\n",
    "\n",
    "    def chuvi (self):\n",
    "        return (self.dai + self.rong)*2\n",
    "    def dientich (self):\n",
    "        return self.dai*self.rong\n",
    "    \n",
    "    def display (self):\n",
    "         print(f\"Chiều dài: {self.dai}, Chiều rộng: {self.rong}, Chu vi: {self.chuvi():.2f}, Diện tích: {self.dientich():.2f}\")\n",
    "\n",
    "hcn = HCN()\n",
    "hcn.display()"
   ]
  },
  {
   "cell_type": "code",
   "execution_count": 5,
   "id": "f6e5b2e9",
   "metadata": {},
   "outputs": [
    {
     "name": "stdout",
     "output_type": "stream",
     "text": [
      "Họ tên: dao quang minh, Toán: 1.0, Lý: 1.0, Hóa: 1.0, Tổng: 3.00\n"
     ]
    }
   ],
   "source": [
    "class TS:\n",
    "    def __init__(self, hoten=\"\", toan=0, ly=0, hoa=0):\n",
    "        self.hoten = hoten\n",
    "        self.toan = float(toan)\n",
    "        self.ly = float(ly)\n",
    "        self.hoa = float(hoa)\n",
    "\n",
    "    # Pt nhập thông tin ts\n",
    "    def nhap(self):\n",
    "        self.hoten = input(\"Nhập họ tên thí sinh: \")\n",
    "        self.toan = float(input(\"Nhập điểm Toán: \"))\n",
    "        self.ly = float(input(\"Nhập điểm Lý: \"))\n",
    "        self.hoa = float(input(\"Nhập điểm Hóa: \"))\n",
    "\n",
    "    # Pt tính tổng điểm\n",
    "    def tongdiem(self):\n",
    "        return self.toan + self.ly + self.hoa\n",
    "\n",
    "    # Pt hiển thị thông tin ts\n",
    "    def display(self):\n",
    "        print(f\"Họ tên: {self.hoten}, Toán: {self.toan}, Lý: {self.ly}, Hóa: {self.hoa}, Tổng: {self.tongdiem():.2f}\")\n",
    "\n",
    "thisinh = TS()\n",
    "thisinh.nhap()\n",
    "thisinh.display()"
   ]
  },
  {
   "cell_type": "code",
   "execution_count": 6,
   "id": "7eacea08",
   "metadata": {},
   "outputs": [
    {
     "name": "stdout",
     "output_type": "stream",
     "text": [
      "Họ tên: Trần Thị B, Toán: 9.0, Lý: 8.0, Hóa: 7.0, Tổng: 24.00\n",
      "Họ tên: Nguyễn Văn A, Toán: 8.0, Lý: 7.5, Hóa: 6.5, Tổng: 22.00\n"
     ]
    }
   ],
   "source": [
    "# Nhập họ tên và điểm ds thí sinh\n",
    "ds_thi_sinh = [\n",
    "    TS(\"Nguyễn Văn A\", 8.0, 7.5, 6.5),\n",
    "    TS(\"Trần Thị B\", 9.0, 8.0, 7.0),\n",
    "    TS(\"Lê Văn C\", 6.0, 6.5, 5.0)\n",
    "]\n",
    "\n",
    "# Sx ds theo tổng điểm giảm dần\n",
    "ds_thi_sinh.sort(key=lambda ts: ts.tongdiem(), reverse=True)\n",
    "\n",
    "# Gthiet điểm chuẩn là 20\n",
    "diem_chuan = 20\n",
    "for ts in ds_thi_sinh:\n",
    "    if ts.tongdiem() >= diem_chuan:\n",
    "        ts.display()"
   ]
  },
  {
   "cell_type": "markdown",
   "id": "adcc5df8",
   "metadata": {},
   "source": [
    "bai3\n"
   ]
  },
  {
   "cell_type": "markdown",
   "id": "696ce511",
   "metadata": {},
   "source": []
  },
  {
   "cell_type": "code",
   "execution_count": 7,
   "id": "58ad673e",
   "metadata": {},
   "outputs": [
    {
     "name": "stdout",
     "output_type": "stream",
     "text": [
      "Họ tên: Trần Thị B, Toán: 9.0, Lý: 8.0, Hóa: 7.0, Tổng: 24.00\n",
      "Họ tên: Nguyễn Văn A, Toán: 8.0, Lý: 7.5, Hóa: 6.5, Tổng: 22.00\n"
     ]
    }
   ],
   "source": [
    "# Nhập họ tên và điểm ds thí sinh\n",
    "ds_thi_sinh = [\n",
    "    TS(\"Nguyễn Văn A\", 8.0, 7.5, 6.5),\n",
    "    TS(\"Trần Thị B\", 9.0, 8.0, 7.0),\n",
    "    TS(\"Lê Văn C\", 6.0, 6.5, 5.0)\n",
    "]\n",
    "\n",
    "# Sx ds theo tổng điểm giảm dần\n",
    "ds_thi_sinh.sort(key=lambda ts: ts.tongdiem(), reverse=True)\n",
    "\n",
    "# Gthiet điểm chuẩn là 20\n",
    "diem_chuan = 20\n",
    "for ts in ds_thi_sinh:\n",
    "    if ts.tongdiem() >= diem_chuan:\n",
    "        ts.display()"
   ]
  },
  {
   "cell_type": "code",
   "execution_count": 8,
   "id": "e481a2d2",
   "metadata": {},
   "outputs": [],
   "source": [
    "class Stack:\n",
    "#Hàm tạo\n",
    "    def __init__(self, size: int):\n",
    "        self.size = size\n",
    "        self.items = [0.0] * size\n",
    "        self.top = -1\n",
    "\n",
    "    #Hàm huỷ\n",
    "    def __del__(self):\n",
    "        print(\"Đối tượng Stack đã được hủy\")\n",
    "\n",
    "    #Đưa phần tử vào ngăn xếp\n",
    "    def push(self, value: float):\n",
    "        self.top = self.top + 1\n",
    "        self.items[self.top] = value\n",
    "\n",
    "    #Lấy phần tử ra khỏi ngăn xếp\n",
    "    def pop(self):\n",
    "        value = self.items[self.top]\n",
    "        self.top = self.top - 1\n",
    "        print(\"Phần tử vừa lấy ra:\")\n",
    "        return value\n",
    "\n",
    "    #Kiểm tra ngăn xếp rỗng\n",
    "    def isEmpty(self):\n",
    "        return self.top == -1\n",
    "\n",
    "    #Kiểm tra ngăn xếp đầy\n",
    "    def isFull(self):\n",
    "        return self.top == self.size - 1\n"
   ]
  },
  {
   "cell_type": "code",
   "execution_count": 9,
   "id": "89517bc6",
   "metadata": {},
   "outputs": [
    {
     "name": "stdout",
     "output_type": "stream",
     "text": [
      "Phần tử vừa lấy ra:\n"
     ]
    },
    {
     "data": {
      "text/plain": [
       "3.5"
      ]
     },
     "execution_count": 9,
     "metadata": {},
     "output_type": "execute_result"
    }
   ],
   "source": [
    "# Ứng dụng\n",
    "stk = Stack(3)\n",
    "stk.push(1.5)\n",
    "stk.push(2.5)\n",
    "stk.push(3.5)\n",
    "stk.pop()"
   ]
  },
  {
   "cell_type": "code",
   "execution_count": 10,
   "id": "1dc85a18",
   "metadata": {},
   "outputs": [],
   "source": [
    "class Stack:  \n",
    "    def __init__(self, size: int):\n",
    "        self.size = size\n",
    "        self.items = [0.0] * size\n",
    "        self.top = -1\n",
    "\n",
    "    def push(self, value: float):\n",
    "        self.top = self.top + 1\n",
    "        self.items[self.top] = value\n",
    "\n",
    "    def pop(self):\n",
    "        value = self.items[self.top]\n",
    "        self.top = self.top - 1\n",
    "        return value\n",
    "    \n",
    "#Trả về số phần tử hiện có trong ngăn xếp\n",
    "    def count(self):\n",
    "        print(\"Số phần tử trong ngăn xếp:\")\n",
    "        return self.top + 1\n",
    "        "
   ]
  },
  {
   "cell_type": "code",
   "execution_count": 11,
   "id": "5e2a2bb1",
   "metadata": {},
   "outputs": [],
   "source": [
    "class Stack:  \n",
    "    def __init__(self, size: int):\n",
    "        self.size = size\n",
    "        self.items = [0.0] * size\n",
    "        self.top = -1\n",
    "\n",
    "    def push(self, value: float):\n",
    "        self.top = self.top + 1\n",
    "        self.items[self.top] = value\n",
    "\n",
    "    def pop(self):\n",
    "        value = self.items[self.top]\n",
    "        self.top = self.top - 1\n",
    "        return value\n",
    "\n",
    "    #In toàn bộ nội dung ngăn xếp\n",
    "    def print(self):\n",
    "        print(\"Nội dung ngăn xếp:\")\n",
    "        print(self.items[:self.top + 1])"
   ]
  },
  {
   "cell_type": "code",
   "execution_count": 12,
   "id": "ff893ebd",
   "metadata": {},
   "outputs": [
    {
     "name": "stdout",
     "output_type": "stream",
     "text": [
      "Đối tượng Stack đã được hủy\n",
      "Nội dung ngăn xếp:\n",
      "[1.1, 2.2, 3.3]\n"
     ]
    }
   ],
   "source": [
    "# Ứng dụng\n",
    "stk = Stack(4)\n",
    "stk.push(1.1)\n",
    "stk.push(2.2)\n",
    "stk.push(3.3)\n",
    "stk.print()"
   ]
  },
  {
   "cell_type": "code",
   "execution_count": 13,
   "id": "0abb00fe",
   "metadata": {},
   "outputs": [],
   "source": [
    "class Date:\n",
    "    def __init__(self, day:int, month:int, year:int):\n",
    "        self.day = day\n",
    "        self.month = month\n",
    "        self.year = year\n",
    "\n",
    "    def display(self):\n",
    "        print(f\"{self.day:02d}/{self.month:02d}/{self.year}\")\n",
    "\n",
    "    #TÍnh ngày tiếp theo\n",
    "    def next(self):\n",
    "        # Số ngày của từng tháng\n",
    "        month_days = [31, 28, 31, 30, 31, 30, 31, 31, 30, 31, 30, 31]\n",
    "\n",
    "        # Kiểm tra năm nhuận\n",
    "        if (self.year % 400 == 0) or ((self.year % 4 == 0) and (self.year % 100 != 0)):\n",
    "            month_days[1] = 29\n",
    "\n",
    "        self.day += 1\n",
    "        if self.day > month_days[self.month - 1]:\n",
    "            self.day = 1\n",
    "            self.month += 1\n",
    "            if self.month > 12:\n",
    "                self.month = 1\n",
    "                self.year += 1\n"
   ]
  },
  {
   "cell_type": "code",
   "execution_count": 14,
   "id": "01dce9cd",
   "metadata": {},
   "outputs": [
    {
     "name": "stdout",
     "output_type": "stream",
     "text": [
      "06/10/2025\n",
      "07/10/2025\n"
     ]
    }
   ],
   "source": [
    "# Hiện tại\n",
    "d1 = Date(6, 10, 2025)\n",
    "d1.display()\n",
    "#Ngày tiếp\n",
    "d1.next()\n",
    "d1.display()"
   ]
  },
  {
   "cell_type": "code",
   "execution_count": 15,
   "id": "b06547f3",
   "metadata": {},
   "outputs": [],
   "source": [
    "class Date:\n",
    "\n",
    "    def __init__(self, day: int = 1, month: int = 1, year: int = 2000):\n",
    "        self.day = day\n",
    "        self.month = month\n",
    "        self.year = year\n",
    "\n",
    "    def display(self):\n",
    "        print(f\"{self.day:02d}/{self.month:02d}/{self.year}\")\n",
    "\n",
    "\n",
    "class Employee:\n",
    "\n",
    "    def __init__(self, name: str, birth: Date, hire: Date):\n",
    "        self.name = name\n",
    "        self.birth = birth\n",
    "        self.hire = hire\n",
    "\n",
    "    def display(self):\n",
    "        print(\"Họ tên nhân viên:\", self.name)\n",
    "        print(\"Ngày sinh:\", end=\" \")\n",
    "        self.birth.display()\n",
    "        print(\"Ngày vào công ty:\", end=\" \")\n",
    "        self.hire.display()"
   ]
  },
  {
   "cell_type": "code",
   "execution_count": 16,
   "id": "ba63d094",
   "metadata": {},
   "outputs": [
    {
     "ename": "SyntaxError",
     "evalue": "leading zeros in decimal integer literals are not permitted; use an 0o prefix for octal integers (590557365.py, line 2)",
     "output_type": "error",
     "traceback": [
      "  \u001b[36mCell\u001b[39m\u001b[36m \u001b[39m\u001b[32mIn[16]\u001b[39m\u001b[32m, line 2\u001b[39m\n\u001b[31m    \u001b[39m\u001b[31mngay_sinh = Date(13, 06, 2006)\u001b[39m\n                         ^\n\u001b[31mSyntaxError\u001b[39m\u001b[31m:\u001b[39m leading zeros in decimal integer literals are not permitted; use an 0o prefix for octal integers\n"
     ]
    }
   ],
   "source": [
    "# Ứng dụng\n",
    "ngay_sinh = Date(13, 06, 2006)\n",
    "ngay_vao_cty = Date(6, 10, 2025)\n",
    "nv1 = Employee(\"Dao Quang Minh\", ngay_sinh, ngay_vao_cty)\n",
    "nv1.display()"
   ]
  },
  {
   "cell_type": "code",
   "execution_count": null,
   "id": "8d14306f",
   "metadata": {},
   "outputs": [],
   "source": [
    "class DaGiac:\n",
    "    #Khởi tạo đa giác\n",
    "    def __init__(self, canh: int = 0):\n",
    "        self.canh = canh\n",
    "\n",
    "    #Ttin đa giác\n",
    "    def display(self):\n",
    "        print(f\"Đây là đa giác có {self.canh} cạnh.\")\n",
    "\n",
    "\n",
    "class HinhBinhHanh(DaGiac):\n",
    "    #Lớp hbh kế thừa từ đa giác\n",
    "\n",
    "    def __init__(self, day: float = 0, canh_ben: float = 0, chieu_cao: float = 0):\n",
    "        super().__init__(4)\n",
    "        self.day = day\n",
    "        self.canh_ben = canh_ben\n",
    "        self.chieu_cao = chieu_cao\n",
    "\n",
    "    #Cv hbh\n",
    "    def chu_vi(self):\n",
    "        return 2 * (self.day + self.canh_ben)\n",
    "\n",
    "    #Dt hbh\n",
    "    def dien_tich(self):\n",
    "        return self.day * self.chieu_cao\n",
    "\n",
    "    def display(self):\n",
    "        print(\"Hình bình hành:\")\n",
    "        print(f\"Đáy: {self.day}, Cạnh bên: {self.canh_ben}, Chiều cao: {self.chieu_cao}\")\n",
    "        print(f\"Chu vi: {self.chu_vi()}, Diện tích: {self.dien_tich()}\")\n",
    "\n",
    "\n",
    "class HinhChuNhat(HinhBinhHanh):\n",
    "    #Lớp hcn kế thừa từ hbh\n",
    "\n",
    "    def __init__(self, chieu_dai: float = 0, chieu_rong: float = 0):\n",
    "        super().__init__(chieu_dai, chieu_rong, chieu_rong)\n",
    "\n",
    "    #Dt hcn\n",
    "    def dien_tich(self):\n",
    "        return self.day * self.canh_ben\n",
    "\n",
    "    def display(self):\n",
    "        print(\"Hình chữ nhật:\")\n",
    "        print(f\"Chiều dài: {self.day}, Chiều rộng: {self.canh_ben}\")\n",
    "        print(f\"Chu vi: {self.chu_vi()}, Diện tích: {self.dien_tich()}\")\n",
    "\n",
    "\n",
    "class HinhVuong(HinhChuNhat):\n",
    "    #Lớp hv kế thừa từ hcn\n",
    "\n",
    "    def __init__(self, canh: float = 0):\n",
    "        super().__init__(canh, canh)\n",
    "\n",
    "    def display(self):\n",
    "        print(\"Hình vuông:\")\n",
    "        print(f\"Cạnh: {self.day}\")\n",
    "        print(f\"Chu vi: {self.chu_vi()}, Diện tích: {self.dien_tich()}\")"
   ]
  },
  {
   "cell_type": "code",
   "execution_count": null,
   "id": "7e198ff8",
   "metadata": {},
   "outputs": [],
   "source": [
    "# Ứng dụng\n",
    "\n",
    "hb = HinhBinhHanh(6, 4, 3)\n",
    "hb.display()\n",
    "\n",
    "print()\n",
    "hcn = HinhChuNhat(8, 5)\n",
    "hcn.display()\n",
    "\n",
    "print()\n",
    "hv = HinhVuong(4)\n",
    "hv.display()"
   ]
  },
  {
   "cell_type": "code",
   "execution_count": null,
   "id": "381a90e9",
   "metadata": {},
   "outputs": [],
   "source": [
    "import math\n",
    "\n",
    "class Diem:\n",
    "    #Lớp Diem mô tả một điểm trong mặt phẳng tọa độ\n",
    "\n",
    "    def __init__(self, x: float = 0, y: float = 0):\n",
    "        self.x = x\n",
    "        self.y = y\n",
    "\n",
    "    def display(self):\n",
    "        print(f\"Tọa độ điểm: ({self.x}, {self.y})\")\n",
    "\n",
    "\n",
    "class Elip(Diem):\n",
    "    #Lớp Elip kế thừa từ lớp Diem\n",
    "\n",
    "    def __init__(self, x: float = 0, y: float = 0, truc_lon: float = 0, truc_nho: float = 0):\n",
    "        super().__init__(x, y)\n",
    "        self.truc_lon = truc_lon\n",
    "        self.truc_nho = truc_nho\n",
    "\n",
    "    def dien_tich(self):\n",
    "        return math.pi * self.truc_lon * self.truc_nho\n",
    "\n",
    "    def display(self):\n",
    "        print(\"Elip:\")\n",
    "        print(f\"Tâm: ({self.x}, {self.y})\")\n",
    "        print(f\"Trục lớn: {self.truc_lon}, Trục nhỏ: {self.truc_nho}\")\n",
    "        print(f\"Diện tích: {self.dien_tich():.2f}\")\n",
    "\n",
    "\n",
    "class DuongTron(Elip):\n",
    "    #Lớp Đường Tròn kế thừa từ lớp Elip\n",
    "\n",
    "    def __init__(self, x: float = 0, y: float = 0, ban_kinh: float = 0):\n",
    "        super().__init__(x, y, ban_kinh, ban_kinh)\n",
    "\n",
    "    def display(self):\n",
    "        print(\"Đường tròn:\")\n",
    "        print(f\"Tâm: ({self.x}, {self.y})\")\n",
    "        print(f\"Bán kính: {self.truc_lon}\")\n",
    "        print(f\"Diện tích: {self.dien_tich():.2f}\")"
   ]
  },
  {
   "cell_type": "code",
   "execution_count": null,
   "id": "71f7bd78",
   "metadata": {},
   "outputs": [],
   "source": [
    "# Ứng dụng\n",
    "d = Diem(2, 3)\n",
    "d.display()\n",
    "\n",
    "print()\n",
    "e = Elip(0, 0, 5, 3)\n",
    "e.display()\n",
    "\n",
    "print()\n",
    "c = DuongTron(1, 1, 4)\n",
    "c.display()"
   ]
  },
  {
   "cell_type": "code",
   "execution_count": null,
   "id": "60c36a2b",
   "metadata": {},
   "outputs": [],
   "source": [
    "import math\n",
    "\n",
    "class TamGiac:\n",
    "    #Lớp TamGiac mô tả một tam giác chung\n",
    "\n",
    "    def __init__(self, a: float = 0, b: float = 0, c: float = 0):\n",
    "        self.a = a\n",
    "        self.b = b\n",
    "        self.c = c\n",
    "\n",
    "    def chu_vi(self):\n",
    "        return self.a + self.b + self.c\n",
    "\n",
    "    def dien_tich(self):\n",
    "        p = self.chu_vi() / 2\n",
    "        return math.sqrt(p * (p - self.a) * (p - self.b) * (p - self.c))\n",
    "\n",
    "    def display(self):\n",
    "        print(\"Tam giác:\")\n",
    "        print(f\"Cạnh a: {self.a}, b: {self.b}, c: {self.c}\")\n",
    "        print(f\"Chu vi: {self.chu_vi():.2f}, Diện tích: {self.dien_tich():.2f}\")\n",
    "\n",
    "\n",
    "class TamGiacVuong(TamGiac):\n",
    "    #Lớp TamGiacVuong kế thừa từ lớp TamGiac\n",
    "\n",
    "    def __init__(self, canh_goc_vuong1: float = 0, canh_goc_vuong2: float = 0):\n",
    "        c = math.sqrt(canh_goc_vuong1**2 + canh_goc_vuong2**2)\n",
    "        super().__init__(canh_goc_vuong1, canh_goc_vuong2, c)\n",
    "\n",
    "    def display(self):\n",
    "        print(\"Tam giác vuông:\")\n",
    "        print(f\"Cạnh góc vuông 1: {self.a}, Cạnh góc vuông 2: {self.b}\")\n",
    "        print(f\"Cạnh huyền: {self.c}\")\n",
    "        print(f\"Chu vi: {self.chu_vi():.2f}, Diện tích: {self.dien_tich():.2f}\")\n",
    "\n",
    "\n",
    "class TamGiacCan(TamGiac):\n",
    "    \"\"\"Lớp TamGiacCan kế thừa từ lớp TamGiac.\"\"\"\n",
    "\n",
    "    def __init__(self, canh_day: float = 0, canh_ben: float = 0):\n",
    "        super().__init__(canh_ben, canh_ben, canh_day)\n",
    "\n",
    "    def display(self):\n",
    "        print(\"Tam giác cân:\")\n",
    "        print(f\"Cạnh bên: {self.a}, Cạnh đáy: {self.c}\")\n",
    "        print(f\"Chu vi: {self.chu_vi():.2f}, Diện tích: {self.dien_tich():.2f}\")\n",
    "\n",
    "\n",
    "class TamGiacDeu(TamGiacCan):\n",
    "    #Lớp TamGiacDeu kế thừa từ lớp TamGiacCan\n",
    "\n",
    "    def __init__(self, canh: float = 0):\n",
    "        super().__init__(canh, canh)\n",
    "\n",
    "    def display(self):\n",
    "        print(\"Tam giác đều:\")\n",
    "        print(f\"Cạnh: {self.a}\")\n",
    "        print(f\"Chu vi: {self.chu_vi():.2f}, Diện tích: {self.dien_tich():.2f}\")\n",
    "\n",
    "\n",
    "# Ứng dụng\n",
    "tg = TamGiac(3, 4, 5)\n",
    "tg.display()\n",
    "\n",
    "print()\n",
    "tgv = TamGiacVuong(3, 4)\n",
    "tgv.display()\n",
    "\n",
    "print()\n",
    "tgc = TamGiacCan(6, 5)\n",
    "tgc.display()\n",
    "\n",
    "print()\n",
    "tgd = TamGiacDeu(4)\n",
    "tgd.display()\n"
   ]
  },
  {
   "cell_type": "code",
   "execution_count": null,
   "id": "fcd35347",
   "metadata": {},
   "outputs": [],
   "source": []
  }
 ],
 "metadata": {
  "kernelspec": {
   "display_name": "Python 3",
   "language": "python",
   "name": "python3"
  },
  "language_info": {
   "codemirror_mode": {
    "name": "ipython",
    "version": 3
   },
   "file_extension": ".py",
   "mimetype": "text/x-python",
   "name": "python",
   "nbconvert_exporter": "python",
   "pygments_lexer": "ipython3",
   "version": "3.13.0"
  }
 },
 "nbformat": 4,
 "nbformat_minor": 5
}
