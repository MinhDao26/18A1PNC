{
 "cells": [
  {
   "cell_type": "code",
   "execution_count": 1,
   "id": "bffecc7a",
   "metadata": {},
   "outputs": [
    {
     "name": "stdout",
     "output_type": "stream",
     "text": [
      "Đã tạo file company.xml thành công!\n"
     ]
    }
   ],
   "source": [
    "import xml.etree.ElementTree as ET\n",
    "\n",
    "def create_company_xml(name, director, address, phone, tax):\n",
    "    company = ET.Element('Company', attrib={'name': name})\n",
    "    \n",
    "    info = {\n",
    "        'Director': director,\n",
    "        'Address': address,\n",
    "        'Phone': phone,\n",
    "        'TaxCode': tax\n",
    "    }\n",
    "\n",
    "    for key, value in info.items():\n",
    "        child = ET.SubElement(company, key)\n",
    "        child.text = value\n",
    "\n",
    "    tree = ET.ElementTree(company)\n",
    "    tree.write('company.xml', encoding='utf-8', xml_declaration=True)\n",
    "\n",
    "# Chạy thử\n",
    "create_company_xml(\n",
    "    name=\"Công ty TNHH ABC\",\n",
    "    director=\"Nguyễn Văn A\",\n",
    "    address=\"123 Lê Lợi, Hà Nội\",\n",
    "    phone=\"0987654321\",\n",
    "    tax=\"0101234567\"\n",
    ")\n",
    "print(\"Đã tạo file company.xml thành công!\")"
   ]
  },
  {
   "cell_type": "code",
   "execution_count": 2,
   "id": "4cf09da8",
   "metadata": {},
   "outputs": [
    {
     "name": "stdout",
     "output_type": "stream",
     "text": [
      " Đã tạo file students.xml\n"
     ]
    }
   ],
   "source": [
    "#2.2\n",
    "\n",
    "data = \"\"\"<?xml version=\"1.0\"?>\n",
    "<students>\n",
    "    <student id=\"1\">\n",
    "        <name>Erling Haaland</name>\n",
    "        <year>2006</year>\n",
    "        <class>18A1</class>\n",
    "        <gender>Nam</gender>\n",
    "    </student>\n",
    "    <student id=\"2\">\n",
    "        <name>Le Quang Liem</name>\n",
    "        <year>2006</year>\n",
    "        <class>18A1</class>\n",
    "        <gender>Nam</gender>\n",
    "    </student>\n",
    "    <student id=\"3\">\n",
    "        <name>Truong Dinh Hoang</name>\n",
    "        <year>2003</year>\n",
    "        <class>18A6</class>\n",
    "        <gender>Nam</gender>\n",
    "    </student>\n",
    "</students>\n",
    "\"\"\"\n",
    "\n",
    "with open(\"students.xml\", \"w\", encoding=\"utf-8\") as f:\n",
    "    f.write(data)\n",
    "\n",
    "print(\" Đã tạo file students.xml\")"
   ]
  },
  {
   "cell_type": "code",
   "execution_count": 3,
   "id": "766c84ba",
   "metadata": {},
   "outputs": [
    {
     "name": "stdout",
     "output_type": "stream",
     "text": [
      "Tên công ty: GeeksForGeeks Company\n",
      "\n",
      "Danh sách nhân viên:\n",
      "- Amar Pandey (8.5 LPA)\n",
      "- Akbhar Khan (6.5 LPA)\n",
      "- Anthony Walter (3.2 LPA)\n"
     ]
    }
   ],
   "source": [
    "#2.4\n",
    "from xml.dom import minidom\n",
    "doc = minidom.parse('sample.xml')\n",
    "root = doc.documentElement\n",
    "company_name = root.getElementsByTagName('name')[0].firstChild.data\n",
    "print(\"Tên công ty:\", company_name)\n",
    "staffs = root.getElementsByTagName('staff')\n",
    "print(\"\\nDanh sách nhân viên:\")\n",
    "for s in staffs:\n",
    "    name = s.getElementsByTagName('name')[0].firstChild.data\n",
    "    salary = s.getElementsByTagName('salary')[0].firstChild.data\n",
    "    print(f\"- {name} ({salary})\")"
   ]
  },
  {
   "cell_type": "code",
   "execution_count": 4,
   "id": "7e644e2d",
   "metadata": {},
   "outputs": [
    {
     "name": "stdout",
     "output_type": "stream",
     "text": [
      "Danh sách nhân viên:\n",
      "- Amar Pandey\n",
      "- Akbhar Khan\n",
      "- Anthony Walter\n"
     ]
    }
   ],
   "source": [
    "#2.5\n",
    "from xml.dom import minidom\n",
    "\n",
    "doc = minidom.parse('sample.xml')\n",
    "staffs = doc.getElementsByTagName('staff')\n",
    "\n",
    "print(\"Danh sách nhân viên:\")\n",
    "for s in staffs:\n",
    "    name = s.getElementsByTagName('name')[0].firstChild.data\n",
    "    print(\"-\", name)"
   ]
  },
  {
   "cell_type": "code",
   "execution_count": 5,
   "id": "37702827",
   "metadata": {},
   "outputs": [
    {
     "name": "stdout",
     "output_type": "stream",
     "text": [
      "=== 5 TIN TỨC MỚI NHẤT ===\n",
      "\n",
      " Đã lưu toàn bộ tin tức vào file 'tin_tuc.csv'\n"
     ]
    }
   ],
   "source": [
    "import requests\n",
    "import xml.etree.ElementTree as ET\n",
    "import csv\n",
    "\n",
    "url = \"http://www.hindustantimes.com/rss/topnews/rssfeed.xml\"\n",
    "response = requests.get(url)\n",
    "response.encoding = \"utf-8\"\n",
    "\n",
    "root = ET.fromstring(response.text)\n",
    "items = []\n",
    "\n",
    "for item in root.findall(\".//item\"):\n",
    "    title = item.findtext(\"title\", \"\")\n",
    "    link = item.findtext(\"link\", \"\")\n",
    "    pubDate = item.findtext(\"pubDate\", \"\")\n",
    "    items.append([title, link, pubDate])\n",
    "\n",
    "print(\"=== 5 TIN TỨC MỚI NHẤT ===\")\n",
    "for i, (title, link, date) in enumerate(items[:5], start=1):\n",
    "    print(f\"\\n{i}. {title}\\n   {link}\\n   Ngày: {date}\")\n",
    "\n",
    "with open(\"tin_tuc.csv\", \"w\", newline='', encoding=\"utf-8\") as f:\n",
    "    writer = csv.writer(f)\n",
    "    writer.writerow([\"Tiêu đề\", \"Liên kết\", \"Ngày xuất bản\"])\n",
    "    writer.writerows(items)\n",
    "\n",
    "print(\"\\n Đã lưu toàn bộ tin tức vào file 'tin_tuc.csv'\")"
   ]
  },
  {
   "cell_type": "code",
   "execution_count": 6,
   "id": "48e1c48f",
   "metadata": {},
   "outputs": [
    {
     "name": "stdout",
     "output_type": "stream",
     "text": [
      "Lan sống ở Hue, 20 tuổi.\n"
     ]
    }
   ],
   "source": [
    "import json\n",
    "\n",
    "json_data = '{\"name\": \"Lan\", \"age\": 20, \"city\": \"Hue\"}'\n",
    "data = json.loads(json_data)\n",
    "print(f\"{data['name']} sống ở {data['city']}, {data['age']} tuổi.\")"
   ]
  },
  {
   "cell_type": "code",
   "execution_count": 7,
   "id": "39efa537",
   "metadata": {},
   "outputs": [
    {
     "name": "stdout",
     "output_type": "stream",
     "text": [
      "{\n",
      "  \"name\": \"Minh\",\n",
      "  \"age\": 19,\n",
      "  \"score\": 8.7\n",
      "}\n"
     ]
    }
   ],
   "source": [
    "import json\n",
    "\n",
    "student = dict(name=\"Minh\", age=19, score=8.7)\n",
    "print(json.dumps(student, indent=2, ensure_ascii=False))"
   ]
  },
  {
   "cell_type": "code",
   "execution_count": 8,
   "id": "1711f6bc",
   "metadata": {},
   "outputs": [
    {
     "name": "stdout",
     "output_type": "stream",
     "text": [
      "JSON đã sắp xếp theo khóa:\n",
      "{\n",
      "    \"age\": 20,\n",
      "    \"grade\": \"C\",\n",
      "    \"name\": \"Savinho\"\n",
      "}\n"
     ]
    }
   ],
   "source": [
    "#2.9\n",
    "import json\n",
    "\n",
    "student = {\"age\": 20, \"name\": \"Savinho\", \"grade\": \"C\"}\n",
    "\n",
    "json_sorted = json.dumps(student, indent=4, sort_keys=True, ensure_ascii=False)\n",
    "\n",
    "print(\"JSON đã sắp xếp theo khóa:\")\n",
    "print(json_sorted)"
   ]
  },
  {
   "cell_type": "code",
   "execution_count": 9,
   "id": "5eef4196",
   "metadata": {},
   "outputs": [
    {
     "name": "stdout",
     "output_type": "stream",
     "text": [
      "Tên công ty: Công ty TNHH Đất Việt\n",
      "Địa chỉ: Giải Phóng - Hà Nội\n",
      "Tổng số nhân viên: 30\n",
      "\n",
      "----- Thống kê nhân viên theo đơn vị -----\n",
      "A1: 10 nhân viên, chiếm 33.3%\n",
      "A2: 8 nhân viên, chiếm 26.7%\n",
      "A3: 6 nhân viên, chiếm 20.0%\n",
      "A4: 4 nhân viên, chiếm 13.3%\n",
      "A5: 2 nhân viên, chiếm 6.7%\n"
     ]
    }
   ],
   "source": [
    "#2.10\n",
    "import json\n",
    "\n",
    "data = {\n",
    "    \"company\": \"Công ty TNHH Đất Việt\",\n",
    "    \"address\": \"Giải Phóng - Hà Nội\",\n",
    "    \"departments\": {\n",
    "        \"A1\": 10,\n",
    "        \"A2\": 8,\n",
    "        \"A3\": 6,\n",
    "        \"A4\": 4,\n",
    "        \"A5\": 2\n",
    "    }\n",
    "}\n",
    "\n",
    "total = sum(data[\"departments\"].values())\n",
    "\n",
    "print(f\"Tên công ty: {data['company']}\")\n",
    "print(f\"Địa chỉ: {data['address']}\")\n",
    "print(f\"Tổng số nhân viên: {total}\\n\")\n",
    "\n",
    "print(\"----- Thống kê nhân viên theo đơn vị -----\")\n",
    "for name, count in data[\"departments\"].items():\n",
    "    rate = count / total * 100\n",
    "    print(f\"{name}: {count} nhân viên, chiếm {rate:.1f}%\")"
   ]
  },
  {
   "cell_type": "code",
   "execution_count": 10,
   "id": "0bca5e4e",
   "metadata": {},
   "outputs": [
    {
     "name": "stdout",
     "output_type": "stream",
     "text": [
      "\n",
      "Nhập thông tin giao dịch mới:\n"
     ]
    },
    {
     "ename": "ValueError",
     "evalue": "could not convert string to float: '1l'",
     "output_type": "error",
     "traceback": [
      "\u001b[31m---------------------------------------------------------------------------\u001b[39m",
      "\u001b[31mValueError\u001b[39m                                Traceback (most recent call last)",
      "\u001b[36mCell\u001b[39m\u001b[36m \u001b[39m\u001b[32mIn[10]\u001b[39m\u001b[32m, line 47\u001b[39m\n\u001b[32m     45\u001b[39m lua_chon = \u001b[38;5;28minput\u001b[39m(\u001b[33m\"\u001b[39m\u001b[33mBạn có muốn ghi vào tệp tin hay không? (1: Có, 0: Không): \u001b[39m\u001b[33m\"\u001b[39m)\n\u001b[32m     46\u001b[39m \u001b[38;5;28;01mif\u001b[39;00m lua_chon == \u001b[33m'\u001b[39m\u001b[33m1\u001b[39m\u001b[33m'\u001b[39m:\n\u001b[32m---> \u001b[39m\u001b[32m47\u001b[39m     \u001b[43mghi_giao_dich\u001b[49m\u001b[43m(\u001b[49m\u001b[43m)\u001b[49m\n\u001b[32m     48\u001b[39m \u001b[38;5;28;01melif\u001b[39;00m lua_chon == \u001b[33m'\u001b[39m\u001b[33m0\u001b[39m\u001b[33m'\u001b[39m:\n\u001b[32m     49\u001b[39m     \u001b[38;5;28mprint\u001b[39m(\u001b[33m\"\u001b[39m\u001b[33mKết thúc chương trình.\u001b[39m\u001b[33m\"\u001b[39m)\n",
      "\u001b[36mCell\u001b[39m\u001b[36m \u001b[39m\u001b[32mIn[10]\u001b[39m\u001b[32m, line 19\u001b[39m, in \u001b[36mghi_giao_dich\u001b[39m\u001b[34m()\u001b[39m\n\u001b[32m     17\u001b[39m nguoi_gui = \u001b[38;5;28minput\u001b[39m(\u001b[33m\"\u001b[39m\u001b[33mNgười gửi: \u001b[39m\u001b[33m\"\u001b[39m)\n\u001b[32m     18\u001b[39m nguoi_nhan = \u001b[38;5;28minput\u001b[39m(\u001b[33m\"\u001b[39m\u001b[33mNgười nhận: \u001b[39m\u001b[33m\"\u001b[39m)\n\u001b[32m---> \u001b[39m\u001b[32m19\u001b[39m so_tien = \u001b[38;5;28;43mfloat\u001b[39;49m\u001b[43m(\u001b[49m\u001b[38;5;28;43minput\u001b[39;49m\u001b[43m(\u001b[49m\u001b[33;43m\"\u001b[39;49m\u001b[33;43mSố tiền: \u001b[39;49m\u001b[33;43m\"\u001b[39;49m\u001b[43m)\u001b[49m\u001b[43m)\u001b[49m\n\u001b[32m     21\u001b[39m \u001b[38;5;66;03m# Lấy thời gian hiện tại theo định dạng yêu cầu\u001b[39;00m\n\u001b[32m     22\u001b[39m timestamp = datetime.now().strftime(\u001b[33m\"\u001b[39m\u001b[33m%\u001b[39m\u001b[33mY-\u001b[39m\u001b[33m%\u001b[39m\u001b[33mm-\u001b[39m\u001b[38;5;132;01m%d\u001b[39;00m\u001b[33m-\u001b[39m\u001b[33m%\u001b[39m\u001b[33mH-\u001b[39m\u001b[33m%\u001b[39m\u001b[33mM-\u001b[39m\u001b[33m%\u001b[39m\u001b[33mS\u001b[39m\u001b[33m\"\u001b[39m)\n",
      "\u001b[31mValueError\u001b[39m: could not convert string to float: '1l'"
     ]
    }
   ],
   "source": [
    "import json\n",
    "from datetime import datetime\n",
    "\n",
    "FILE_GIAO_DICH = 'giaodich.json'\n",
    "\n",
    "def ghi_giao_dich():\n",
    "    # Đọc dữ liệu cũ từ file (nếu có)\n",
    "    try:\n",
    "        with open(FILE_GIAO_DICH, 'r', encoding='utf-8') as f:\n",
    "            danh_sach_giao_dich = json.load(f)\n",
    "    except (FileNotFoundError, json.JSONDecodeError):\n",
    "        # Nếu file không tồn tại hoặc rỗng, tạo danh sách mới\n",
    "        danh_sach_giao_dich = []\n",
    "\n",
    "    # Nhập thông tin giao dịch mới\n",
    "    print(\"\\nNhập thông tin giao dịch mới:\")\n",
    "    nguoi_gui = input(\"Người gửi: \")\n",
    "    nguoi_nhan = input(\"Người nhận: \")\n",
    "    so_tien = float(input(\"Số tiền: \"))\n",
    "    \n",
    "    # Lấy thời gian hiện tại theo định dạng yêu cầu\n",
    "    timestamp = datetime.now().strftime(\"%Y-%m-%d-%H-%M-%S\")\n",
    "    \n",
    "    # Tạo đối tượng giao dịch mới\n",
    "    giao_dich_moi = {\n",
    "        'thoi_gian': timestamp,\n",
    "        'nguoi_gui': nguoi_gui,\n",
    "        'nguoi_nhan': nguoi_nhan,\n",
    "        'so_tien': so_tien\n",
    "    }\n",
    "    \n",
    "    # Thêm giao dịch mới vào danh sách\n",
    "    danh_sach_giao_dich.append(giao_dich_moi)\n",
    "    \n",
    "    # Ghi lại toàn bộ danh sách vào file\n",
    "    try:\n",
    "        with open(FILE_GIAO_DICH, 'w', encoding='utf-8') as f:\n",
    "            json.dump(danh_sach_giao_dich, f, indent=4, ensure_ascii=False)\n",
    "        print(\"=> Ghi giao dịch thành công!\")\n",
    "    except IOError as e:\n",
    "        print(f\"Lỗi khi ghi file: {e}\")\n",
    "\n",
    "# Chương trình chính\n",
    "while True:\n",
    "    lua_chon = input(\"Bạn có muốn ghi vào tệp tin hay không? (1: Có, 0: Không): \")\n",
    "    if lua_chon == '1':\n",
    "        ghi_giao_dich()\n",
    "    elif lua_chon == '0':\n",
    "        print(\"Kết thúc chương trình.\")\n",
    "        break\n",
    "    else:\n",
    "        print(\"Lựa chọn không hợp lệ, vui lòng chọn 1 hoặc 0.\")"
   ]
  },
  {
   "cell_type": "code",
   "execution_count": null,
   "id": "b1db2888",
   "metadata": {},
   "outputs": [],
   "source": []
  }
 ],
 "metadata": {
  "kernelspec": {
   "display_name": "Python 3",
   "language": "python",
   "name": "python3"
  },
  "language_info": {
   "codemirror_mode": {
    "name": "ipython",
    "version": 3
   },
   "file_extension": ".py",
   "mimetype": "text/x-python",
   "name": "python",
   "nbconvert_exporter": "python",
   "pygments_lexer": "ipython3",
   "version": "3.13.0"
  }
 },
 "nbformat": 4,
 "nbformat_minor": 5
}
